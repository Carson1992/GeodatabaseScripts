{
 "cells": [
  {
   "cell_type": "code",
   "execution_count": 11,
   "metadata": {},
   "outputs": [
    {
     "name": "stdout",
     "output_type": "stream",
     "text": [
      "['SDE.test', 'SDE.New Version']\n",
      "Done.\n"
     ]
    }
   ],
   "source": [
    "import arcpy\n",
    "import logging\n",
    "from datetime import date\n",
    "\n",
    "# Set the path to your geodatabase\n",
    "geodatabase_path = \"D:\\\\GDB_Connections\\\\cs_gdb1_sde.sde\"\n",
    "logFileLocation = r'D:\\temp\\GDBMaintenanceLog'\n",
    "reconcilelogFileLocation = r'D:\\temp\\reconcilelog_{}.txt'.format(date.today().strftime(\"_%d_%m_%Y\"))\n",
    "targetVersion = 'sde.DEFAULT'\n",
    "\n",
    "# Setup logging\n",
    "logging.basicConfig(filename=logFileLocation + date.today().strftime(\"_%d_%m_%Y\") + '.log',\n",
    "                        filemode='a',\n",
    "                        format='%(asctime)s,%(msecs)d %(levelname)s %(message)s',\n",
    "                        datefmt='%Y-%m-%d %H:%M:%S',\n",
    "                        level=logging.INFO)\n",
    "\n",
    "logging.info(\"Reconcile script starting\")\n",
    "\n",
    "try:\n",
    "    # Check if the geodatabase exists\n",
    "    if arcpy.Exists(geodatabase_path):\n",
    "        #Sometimes a stale connection can cause issues with versioning.\n",
    "        arcpy.ClearWorkspaceCache_management()\n",
    "\n",
    "        # Block new connections to the database.\n",
    "        logging.info(\"The database is no longer accepting connections\")\n",
    "        arcpy.AcceptConnections(geodatabase_path, False)\n",
    "\n",
    "        # Disconnect all users from the database.\n",
    "        logging.info(\"Disconnecting all users\")\n",
    "        arcpy.DisconnectUser(geodatabase_path, \"ALL\")\n",
    "        \n",
    "        # Get a list of versions to pass into the ReconcileVersions tool.\n",
    "        # Only reconcile versions that are children of Default\n",
    "        logging.info(\"Compiling a list of versions to reconcile\")\n",
    "        verList = arcpy.da.ListVersions(geodatabase_path)\n",
    "        versionList = [ver.name for ver in verList if ver.parentVersionName == targetVersion]\n",
    "        print (versionList)\n",
    "        \n",
    "        # Execute the ReconcileVersions tool.\n",
    "        # We are not posting any edits to default or deleting any versions here\n",
    "        logging.info(\"Reconciling all versions\")\n",
    "        arcpy.ReconcileVersions_management(geodatabase_path, \"ALL_VERSIONS\", targetVersion, versionList, \"LOCK_ACQUIRED\",\n",
    "                                           \"NO_ABORT\", \"BY_OBJECT\", \"FAVOR_EDIT_VERSION\", \"NO_POST\", \"KEEP_VERSION\",\n",
    "                                           reconcilelogFileLocation, 'PROCEED', 'RECONCILE')\n",
    "        \n",
    "         # Allow the database to begin accepting connections again\n",
    "        logging.info(\"Allow users to connect to the database again\")\n",
    "        arcpy.AcceptConnections(geodatabase_path, True)\n",
    "        \n",
    "except Exception as e:\n",
    "    print(str(e))\n",
    "    print(arcpy.GetMessages(2))\n",
    "    logging.error(arcpy.GetMessages(2))\n",
    "    logging.error(str(e))\n",
    "\n",
    "finally:\n",
    "    logging.info(\"Script completed\")\n",
    "    print(\"Done.\")"
   ]
  },
  {
   "cell_type": "code",
   "execution_count": null,
   "metadata": {},
   "outputs": [],
   "source": []
  },
  {
   "cell_type": "code",
   "execution_count": null,
   "metadata": {},
   "outputs": [],
   "source": []
  },
  {
   "cell_type": "code",
   "execution_count": null,
   "metadata": {},
   "outputs": [],
   "source": []
  },
  {
   "cell_type": "code",
   "execution_count": null,
   "metadata": {},
   "outputs": [],
   "source": []
  }
 ],
 "metadata": {
  "kernelspec": {
   "display_name": "ArcGISPro",
   "language": "Python",
   "name": "python3"
  },
  "language_info": {
   "file_extension": ".py",
   "name": "python",
   "version": "3"
  }
 },
 "nbformat": 4,
 "nbformat_minor": 2
}
