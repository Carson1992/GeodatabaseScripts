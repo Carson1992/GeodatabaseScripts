{
 "cells": [
  {
   "cell_type": "code",
   "execution_count": 10,
   "metadata": {},
   "outputs": [
    {
     "name": "stdout",
     "output_type": "stream",
     "text": [
      "Geodatabase compressed successfully.\n",
      "Statistics updated successfully.\n"
     ]
    }
   ],
   "source": [
    "#Script for compressing the geodatabase. \n",
    "#Includes logging tasks. \n",
    "#Also updates statistics on system tables. \n",
    "#January 11, 2024\n",
    "\n",
    "import arcpy\n",
    "import logging\n",
    "from datetime import date\n",
    "\n",
    "# Set the path to your geodatabase\n",
    "geodatabase_path = \"D:\\\\GDB_Connections\\\\cs_gdb1_sde.sde\"\n",
    "logFileLocation = r'D:\\temp\\compresslog_{}.txt'.format(date.today().strftime(\"_%d_%m_%Y\"))\n",
    "\n",
    "# Setup logging\n",
    "logging.basicConfig(filename=logFileLocation + date.today().strftime(\"_%d_%m_%Y\") + '.log',\n",
    "                        filemode='a',\n",
    "                        format='%(asctime)s,%(msecs)d %(levelname)s %(message)s',\n",
    "                        datefmt='%Y-%m-%d %H:%M:%S',\n",
    "                        level=logging.INFO)\n",
    "\n",
    "logging.info(\"Maintenance script starting\")\n",
    "\n",
    "try:\n",
    "    # Check if the geodatabase exists\n",
    "    if arcpy.Exists(geodatabase_path):\n",
    "        #Sometimes a stale connection can cause issues with versioning.\n",
    "        arcpy.ClearWorkspaceCache_management()\n",
    "\n",
    "        # Block new connections to the database.\n",
    "        logging.info(\"The database is no longer accepting connections\")\n",
    "        arcpy.AcceptConnections(geodatabase_path, False)\n",
    "\n",
    "        # Disconnect all users from the database.\n",
    "        logging.info(\"Disconnecting all users\")\n",
    "        arcpy.DisconnectUser(geodatabase_path, \"ALL\")\n",
    "        \n",
    "        # Compress the geodatabase\n",
    "        logging.info(\"Running compress\")\n",
    "        arcpy.Compress_management(geodatabase_path)\n",
    "        print(\"Geodatabase compressed successfully.\")\n",
    "        \n",
    "        # Allow the database to begin accepting connections again\n",
    "        logging.info(\"Allow users to connect to the database again\")\n",
    "        arcpy.AcceptConnections(geodatabase_path, True)\n",
    "        \n",
    "        #Analyze statistics on system tables\n",
    "        logging.info(\"Updating statistics on the system tables\")\n",
    "        arcpy.AnalyzeDatasets_management(geodatabase_path, \"SYSTEM\", \"\", \"ANALYZE_BASE\", \"ANALYZE_DELTA\", \"ANALYZE_ARCHIVE\")\n",
    "        print(\"Statistics updated successfully.\")\n",
    "\n",
    "    else:\n",
    "        print(\"Geodatabase does not exist.\")\n",
    "\n",
    "except arcpy.ExecuteError:\n",
    "    print(arcpy.GetMessages(2))\n",
    "\n",
    "except Exception as e:\n",
    "    print(e)\n",
    "finally: \n",
    "    logging.info(\"Script completed\")\n",
    "    "
   ]
  },
  {
   "cell_type": "code",
   "execution_count": null,
   "metadata": {},
   "outputs": [],
   "source": []
  }
 ],
 "metadata": {
  "kernelspec": {
   "display_name": "ArcGISPro",
   "language": "Python",
   "name": "python3"
  },
  "language_info": {
   "file_extension": ".py",
   "name": "python",
   "version": "3"
  }
 },
 "nbformat": 4,
 "nbformat_minor": 2
}
