{
 "cells": [
  {
   "cell_type": "code",
   "execution_count": 15,
   "metadata": {},
   "outputs": [
    {
     "name": "stdout",
     "output_type": "stream",
     "text": [
      "ERROR 000775: Replica with the same name already exists.\n",
      "Failed to execute (CreateReplica).\n",
      "\n"
     ]
    }
   ],
   "source": [
    "import arcpy\n",
    "\n",
    "# Set the workspace\n",
    "arcpy.env.workspace = r\"D:\\\\GDB_Connections\\\\cs_gdb1_sde.sde\"\n",
    "\n",
    "# Set the name of the replica\n",
    "replica_name = \"MyReplica\"\n",
    "\n",
    "# Set the parent and child geodatabase paths\n",
    "parent_gdb_path = r\"D:\\\\GDB_Connections\\\\cs_gdb1_sde.sde\"\n",
    "child_gdb_path = r\"D:\\\\GDB_Connections\\\\cs_gdb2_sde.sde\"\n",
    "\n",
    "# Create a one-way replica\n",
    "def create_one_way_replica():\n",
    "    arcpy.management.CreateReplica(\"beaverriver\", \"ONE_WAY_REPLICA\", \n",
    "                               \"D:\\\\GDB_Connections\\\\cs_gdb2_sde.sde\", \"MyReplica\", \"FULL\", \n",
    "                               \"PARENT_DATA_SENDER\", \"USE_DEFAULTS\", \n",
    "                               \"DO_NOT_REUSE\", \"GET_RELATED\")\n",
    "\n",
    "# Synchronize changes from parent to child\n",
    "def synchronize_changes():\n",
    "    arcpy.management.SynchronizeChanges(\n",
    "        parent_gdb_path,\n",
    "        replica_name,\n",
    "        child_gdb_path,\n",
    "        \"FROM_GEODATABASE1_TO_2\",\n",
    "        \"IN_FAVOR_OF_GDB1\",\n",
    "        \"BY_OBJECT\"\n",
    "    )\n",
    "\n",
    "# Execute the functions\n",
    "try:\n",
    "    create_one_way_replica()\n",
    "    synchronize_changes()\n",
    "    print(\"One-way replica created and synchronized successfully!\")\n",
    "\n",
    "except arcpy.ExecuteError:\n",
    "    print(arcpy.GetMessages(2))\n",
    "\n",
    "except Exception as ex:\n",
    "    print(ex)\n",
    "\n",
    "finally:\n",
    "    arcpy.ClearWorkspaceCache_management()"
   ]
  },
  {
   "cell_type": "code",
   "execution_count": null,
   "metadata": {},
   "outputs": [],
   "source": []
  }
 ],
 "metadata": {
  "kernelspec": {
   "display_name": "ArcGISPro",
   "language": "Python",
   "name": "python3"
  },
  "language_info": {
   "file_extension": ".py",
   "name": "python",
   "version": "3"
  }
 },
 "nbformat": 4,
 "nbformat_minor": 2
}
