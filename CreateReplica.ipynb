{
 "cells": [
  {
   "cell_type": "code",
   "execution_count": null,
   "metadata": {},
   "outputs": [],
   "source": [
    "#Script to create a oneway replica\n",
    "import arcpy\n",
    "\n",
    "# Set the workspace to an sde connection file\n",
    "arcpy.env.workspace = r\"\"\n",
    "\n",
    "# Set the name of the replica\n",
    "replica_name = \"MyReplica\"\n",
    "\n",
    "# Set the parent and child geodatabase paths\n",
    "parent_gdb_path = r\"\"\n",
    "child_gdb_path = r\"\"\n",
    "\n",
    "#enter list of fcs here for inclusion in replica\n",
    "fclist = []\n",
    "\n",
    "# Create a one-way replica\n",
    "def create_one_way_replica():\n",
    "    arcpy.management.CreateReplica(fclist, \"ONE_WAY_REPLICA\", \n",
    "                               child_gdb_path, \"MyReplica\", \"FULL\", \n",
    "                               \"PARENT_DATA_SENDER\", \"USE_DEFAULTS\", \n",
    "                               \"DO_NOT_REUSE\", \"GET_RELATED\")\n",
    "\n",
    "# Synchronize changes from parent to child\n",
    "def synchronize_changes():\n",
    "    arcpy.management.SynchronizeChanges(\n",
    "        parent_gdb_path,\n",
    "        replica_name,\n",
    "        child_gdb_path,\n",
    "        \"FROM_GEODATABASE1_TO_2\",\n",
    "        \"IN_FAVOR_OF_GDB1\",\n",
    "        \"BY_OBJECT\"\n",
    "    )\n",
    "\n",
    "# Execute the functions\n",
    "try:\n",
    "    create_one_way_replica()\n",
    "    synchronize_changes()\n",
    "    print(\"One-way replica created and synchronized successfully!\")\n",
    "\n",
    "except arcpy.ExecuteError:\n",
    "    print(arcpy.GetMessages(2))\n",
    "\n",
    "except Exception as ex:\n",
    "    print(ex)\n",
    "\n",
    "finally:\n",
    "    arcpy.ClearWorkspaceCache_management()"
   ]
  },
  {
   "cell_type": "code",
   "execution_count": null,
   "metadata": {},
   "outputs": [],
   "source": []
  }
 ],
 "metadata": {
  "kernelspec": {
   "display_name": "ArcGISPro",
   "language": "Python",
   "name": "python3"
  },
  "language_info": {
   "file_extension": ".py",
   "name": "python",
   "version": "3"
  }
 },
 "nbformat": 4,
 "nbformat_minor": 2
}
